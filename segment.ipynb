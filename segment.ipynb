import openpyxl
import re

# 打开 Excel 文件
workbook = openpyxl.load_workbook('newMessage.xlsx')
worksheet = workbook.active

# 定义正则表达式模式，匹配面额信息
pattern = r"(?:面额|)(\d+)(?:元|猫超卡)"
pattern1 = r"\d{19}"  # 匹配19位数字
# 遍历第三列，将包含面额信息的单元格写入到第五列
for row in worksheet.iter_rows(values_only=True):
        cell=row[2]
        print(cell)
        if(cell == None):
            continue
        # 如果单元格的值是字符串且包含面额，则将面额信息写入到第五列
        card_numbers = re.findall(pattern1, cell)
        # 如果找到卡号，则打印所有卡号
        if card_numbers:
            # 第一个pattern1的索引
            index_of_first_pattern1 = cell.index(card_numbers[0])
            # 计算每个pattern在文本中的位置，并找到离第一个pattern1最近的那个pattern
            min_distance = float('inf')  # 初始化为正无穷大
            nearest_pattern = None
            for card_number in re.finditer(pattern, cell):
                index_of_pattern = card_number.start()
                distance = abs(index_of_pattern - index_of_first_pattern1)
                if distance < min_distance:
                    min_distance = distance
                    nearest_pattern = card_number.group()
            title=nearest_pattern
            # titles = re.findall(pattern, cell)
            # titles_int = [int(title) for title in titles]
            # title = max(titles_int) if titles_int else ''  # 获取最大面额
            row[4] = title

# 保存修改后的 Excel 文件
workbook.save('output123.xlsx')

print("Excel 文件已保存成功。")


import openpyxl
import re
import json
import mysql.connector
import datetime

# 打开 Excel 文件
workbook = openpyxl.load_workbook('message0511 (2).xlsx')
worksheet = workbook.active

# 定义正则表达式模式，匹配19位数字，即卡号
pattern = r"\d{19}"  # 匹配19位数字
data_list = []

# 遍历每个单元格，提取卡号
for row in worksheet.iter_rows(values_only=True):
        id=row[0]
        cell=row[3]
        # 如果单元格的值是字符串且匹配到卡号，则打印卡号
        if isinstance(cell, str):
            card_numbers = re.findall(pattern, cell)
            # 如果找到卡号，则打印所有卡号
            if card_numbers:
                for card_number in card_numbers:
                    data = {
                        "id": id,
                        "card": card_number,
                    }
                    print(data)
                    data_list.append(data)
                

# 将列表转换为JSON字符串
json_data = json.dumps(data_list)

import mysql.connector

db_config = {
    "host": "localhost",
    "port":"33061",
    "user": "root",
    "password": "123456",
    # "database": "ptvico",
    "database": "message",
    "charset": "utf8",
    "connection_timeout": 120  # 设置为较大的超时时间，单位为秒
}

def insert_data_from_json(json_data, table_name, batch_size=2000):
    # Establish database connection
    db_connection = mysql.connector.connect(**db_config)
    cursor = db_connection.cursor()

    # Read JSON data
    data = json_data

    # Split data into batches
    batches = [data[i:i+batch_size] for i in range(0, len(data), batch_size)]

    # Iterate over each batch
    for batch in batches:
        # Prepare the list of values for batch insertion
        values = []
        columns = list(batch[0].keys())
        for record in batch:
            values.append(list(record.values()))

        # Prepare the query string
        value_placeholders = ", ".join(["%s"] * len(columns))
        query = f"INSERT INTO {table_name} ({', '.join(columns)}) VALUES ({value_placeholders})"

        # Execute the query with batch values, handle IntegrityError
        for record_values in values:
            try:
                cursor.execute(query, record_values)
            except mysql.connector.IntegrityError as e:
                print(f"Duplicate entry: {e}")
                db_connection.rollback()  # Rollback the transaction for the failed record
            else:
                db_connection.commit()  # Commit the transaction for successful insertion

    # Close the cursor and database connection
    cursor.close()
    db_connection.close()

table_names = ["idandcard"]

# 使用上述函数插入数据
data_list = json.loads(json_data)

for table_name in table_names:
    insert_data_from_json(data_list, table_name)
